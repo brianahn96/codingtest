{
 "cells": [
  {
   "cell_type": "code",
   "execution_count": 24,
   "id": "093f54c0",
   "metadata": {},
   "outputs": [],
   "source": [
    "from typing import List, Optional\n",
    "from collections import defaultdict, Counter, deque\n",
    "import heapq\n",
    "import math\n",
    "from itertools import permutations, combinations"
   ]
  },
  {
   "cell_type": "code",
   "execution_count": 1,
   "id": "aa5ad10a",
   "metadata": {},
   "outputs": [],
   "source": [
    "userevent = [1,2,1,3,4,2,4,3,3,4]"
   ]
  },
  {
   "cell_type": "code",
   "execution_count": null,
   "id": "996bb602",
   "metadata": {},
   "outputs": [],
   "source": []
  }
 ],
 "metadata": {
  "kernelspec": {
   "display_name": "Python 3 (ipykernel)",
   "language": "python",
   "name": "python3"
  },
  "language_info": {
   "codemirror_mode": {
    "name": "ipython",
    "version": 3
   },
   "file_extension": ".py",
   "mimetype": "text/x-python",
   "name": "python",
   "nbconvert_exporter": "python",
   "pygments_lexer": "ipython3",
   "version": "3.11.0"
  }
 },
 "nbformat": 4,
 "nbformat_minor": 5
}
