{
 "cells": [
  {
   "cell_type": "code",
   "execution_count": 4,
   "id": "093f54c0",
   "metadata": {},
   "outputs": [],
   "source": [
    "from typing import List, Optional\n",
    "from collections import defaultdict, Counter, deque\n",
    "import heapq\n",
    "import math"
   ]
  },
  {
   "cell_type": "code",
   "execution_count": 442,
   "id": "03101e92",
   "metadata": {},
   "outputs": [],
   "source": [
    "def minEatingSpeed(piles: List[int], h: int) -> int:\n",
    "    answer = max(piles)\n",
    "    candidates = list(range(1, answer + 1))\n",
    "    left, right = 1, answer\n",
    "    while left <= right:\n",
    "        mid = (left + right) // 2\n",
    "        \n",
    "        times = sum(list(map(lambda x: math.ceil(x / mid), piles)))\n",
    "\n",
    "        if times > h:\n",
    "            left = mid + 1\n",
    "        else:\n",
    "            answer = min(answer, mid)\n",
    "            right = mid - 1\n",
    "    \n",
    "    return answer"
   ]
  },
  {
   "cell_type": "code",
   "execution_count": 446,
   "id": "b83ee590",
   "metadata": {},
   "outputs": [],
   "source": [
    "piles = [3,6,7,11]\n",
    "h = 8"
   ]
  },
  {
   "cell_type": "code",
   "execution_count": 444,
   "id": "452cb4a3",
   "metadata": {},
   "outputs": [],
   "source": [
    "piles = [30,11,23,4,20]\n",
    "h = 6"
   ]
  },
  {
   "cell_type": "code",
   "execution_count": 447,
   "id": "53a154b3",
   "metadata": {},
   "outputs": [
    {
     "data": {
      "text/plain": [
       "4"
      ]
     },
     "execution_count": 447,
     "metadata": {},
     "output_type": "execute_result"
    }
   ],
   "source": [
    "minEatingSpeed(piles, h)"
   ]
  },
  {
   "cell_type": "code",
   "execution_count": null,
   "id": "9fbc584a",
   "metadata": {},
   "outputs": [],
   "source": []
  }
 ],
 "metadata": {
  "kernelspec": {
   "display_name": "Python 3 (ipykernel)",
   "language": "python",
   "name": "python3"
  },
  "language_info": {
   "codemirror_mode": {
    "name": "ipython",
    "version": 3
   },
   "file_extension": ".py",
   "mimetype": "text/x-python",
   "name": "python",
   "nbconvert_exporter": "python",
   "pygments_lexer": "ipython3",
   "version": "3.11.0"
  }
 },
 "nbformat": 4,
 "nbformat_minor": 5
}
