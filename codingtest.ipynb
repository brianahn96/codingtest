{
 "cells": [
  {
   "cell_type": "code",
   "execution_count": 24,
   "id": "093f54c0",
   "metadata": {},
   "outputs": [],
   "source": [
    "from typing import List, Optional\n",
    "from collections import defaultdict, Counter, deque\n",
    "import heapq\n",
    "import math\n",
    "from itertools import permutations, combinations"
   ]
  },
  {
   "cell_type": "code",
   "execution_count": 492,
   "id": "9b33fac7",
   "metadata": {},
   "outputs": [],
   "source": [
    "def solution(dice):\n",
    "    answer = []\n",
    "    maximum = 0\n",
    "    trueanswer = []\n",
    "    length = len(dice)\n",
    "    base = list(range(length))\n",
    "    \n",
    "    def backtracking(index, path):\n",
    "        if len(path) == length // 2:\n",
    "            answer.append(path[:])\n",
    "        for i in range(index, length):\n",
    "            path.append(i)\n",
    "            backtracking(i + 1, path)\n",
    "            path.pop()\n",
    "    \n",
    "    backtracking(0, [])\n",
    "\n",
    "    def calculateprob(comb):\n",
    "        windict = {}\n",
    "        def backtrackingcal(index, summed):\n",
    "            if len(summed) == len(comb):\n",
    "                total = sum(summed)\n",
    "                if total not in windict:\n",
    "                    windict[total] = 1\n",
    "                else:\n",
    "                    windict[total] += 1\n",
    "                return\n",
    "            for i in range(6):\n",
    "                summed.append(dice[comb[index]][i])\n",
    "                backtrackingcal(index + 1, summed)\n",
    "                summed.pop()\n",
    "        backtrackingcal(0, [])\n",
    "        return windict\n",
    "    \n",
    "    combinationdict = {}\n",
    "    for i in range(len(answer)):\n",
    "        combinationdict[i] = calculateprob(answer[i])\n",
    "\n",
    "    for i in range(len(combinationdict) // 2):\n",
    "        first = last = 0\n",
    "        for value, count in combinationdict[i].items():\n",
    "            for value2, count2 in combinationdict[len(combinationdict) - i - 1].items():\n",
    "                if value > value2:\n",
    "                    first += count * count2\n",
    "                elif value < value2:\n",
    "                    last += count2 * count\n",
    "        if first > maximum:\n",
    "            maximum = first\n",
    "            trueanswer = answer[i]\n",
    "        if last > maximum:\n",
    "            maximum = last\n",
    "            trueanswer = answer[len(combinationdict) - i - 1]\n",
    "    return [x + 1 for x in trueanswer]"
   ]
  },
  {
   "cell_type": "code",
   "execution_count": 495,
   "id": "16fbc601",
   "metadata": {},
   "outputs": [],
   "source": [
    "dices = [[1, 2, 3, 4, 5, 6], [3, 3, 3, 3, 4, 4], [1, 3, 3, 4, 4, 4], [1, 1, 4, 4, 5, 5],[40, 41, 42, 43, 44, 45], [43, 43, 42, 42, 41, 41]]"
   ]
  },
  {
   "cell_type": "code",
   "execution_count": 497,
   "id": "76e308e6",
   "metadata": {},
   "outputs": [],
   "source": [
    "dices = [[40, 41, 42, 43, 44, 45], [43, 43, 42, 42, 41, 41], [1, 1, 80, 80, 80, 80], [70, 70, 1, 1, 70, 70]]"
   ]
  },
  {
   "cell_type": "code",
   "execution_count": 493,
   "id": "588d06c0",
   "metadata": {},
   "outputs": [],
   "source": [
    "dices = [[1, 2, 3, 4, 5, 6], [2, 2, 4, 4, 6, 6]]"
   ]
  },
  {
   "cell_type": "code",
   "execution_count": 498,
   "id": "f0e7dce3",
   "metadata": {
    "scrolled": false
   },
   "outputs": [
    {
     "data": {
      "text/plain": [
       "[1, 3]"
      ]
     },
     "execution_count": 498,
     "metadata": {},
     "output_type": "execute_result"
    }
   ],
   "source": [
    "solution(dices)"
   ]
  },
  {
   "cell_type": "code",
   "execution_count": 265,
   "id": "58714737",
   "metadata": {},
   "outputs": [
    {
     "name": "stdout",
     "output_type": "stream",
     "text": [
      "[0, 1, 2, 3, 4, 5]\n",
      "[0, 1, 3, 2, 4, 5]\n",
      "[0, 1, 4, 2, 3, 5]\n",
      "[0, 1, 5, 2, 3, 4]\n",
      "[0, 2, 3, 1, 4, 5]\n",
      "[0, 2, 4, 1, 3, 5]\n",
      "[0, 2, 5, 1, 3, 4]\n",
      "[0, 3, 4, 1, 2, 5]\n",
      "[0, 3, 5, 1, 2, 4]\n",
      "[0, 4, 5, 1, 2, 3]\n"
     ]
    }
   ],
   "source": [
    "for i in range(len(a) // 2):\n",
    "    b = a[i] + a[len(a) - i - 1]\n",
    "    print(b)"
   ]
  },
  {
   "cell_type": "code",
   "execution_count": 491,
   "id": "b65dd695",
   "metadata": {},
   "outputs": [
    {
     "data": {
      "text/plain": [
       "[(0, 1, 2),\n",
       " (0, 1, 3),\n",
       " (0, 1, 4),\n",
       " (0, 1, 5),\n",
       " (0, 2, 3),\n",
       " (0, 2, 4),\n",
       " (0, 2, 5),\n",
       " (0, 3, 4),\n",
       " (0, 3, 5),\n",
       " (0, 4, 5),\n",
       " (1, 2, 3),\n",
       " (1, 2, 4),\n",
       " (1, 2, 5),\n",
       " (1, 3, 4),\n",
       " (1, 3, 5),\n",
       " (1, 4, 5),\n",
       " (2, 3, 4),\n",
       " (2, 3, 5),\n",
       " (2, 4, 5),\n",
       " (3, 4, 5)]"
      ]
     },
     "execution_count": 491,
     "metadata": {},
     "output_type": "execute_result"
    }
   ],
   "source": [
    "list(combinations(range(6), 6//2))"
   ]
  },
  {
   "cell_type": "code",
   "execution_count": 517,
   "id": "59ddcff3",
   "metadata": {},
   "outputs": [],
   "source": [
    "def givechange(money):\n",
    "    answer = 0\n",
    "    change = [5, 2]\n",
    "    remain = money\n",
    "    for i in change:\n",
    "        answer += remain // i\n",
    "        print(answer)\n",
    "        remain = remain % i\n",
    "    return answer"
   ]
  },
  {
   "cell_type": "code",
   "execution_count": 518,
   "id": "dce7afe2",
   "metadata": {},
   "outputs": [],
   "source": [
    "amount = 13"
   ]
  },
  {
   "cell_type": "code",
   "execution_count": 519,
   "id": "a83e76f8",
   "metadata": {},
   "outputs": [
    {
     "name": "stdout",
     "output_type": "stream",
     "text": [
      "2\n",
      "3\n"
     ]
    },
    {
     "data": {
      "text/plain": [
       "3"
      ]
     },
     "execution_count": 519,
     "metadata": {},
     "output_type": "execute_result"
    }
   ],
   "source": [
    "givechange(amount)"
   ]
  },
  {
   "cell_type": "code",
   "execution_count": null,
   "id": "c747ed82",
   "metadata": {},
   "outputs": [],
   "source": []
  }
 ],
 "metadata": {
  "kernelspec": {
   "display_name": "Python 3 (ipykernel)",
   "language": "python",
   "name": "python3"
  },
  "language_info": {
   "codemirror_mode": {
    "name": "ipython",
    "version": 3
   },
   "file_extension": ".py",
   "mimetype": "text/x-python",
   "name": "python",
   "nbconvert_exporter": "python",
   "pygments_lexer": "ipython3",
   "version": "3.11.0"
  }
 },
 "nbformat": 4,
 "nbformat_minor": 5
}
