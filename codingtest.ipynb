{
 "cells": [
  {
   "cell_type": "code",
   "execution_count": 24,
   "id": "093f54c0",
   "metadata": {},
   "outputs": [],
   "source": [
    "from typing import List\n",
    "from collections import defaultdict, Counter\n",
    "import heapq"
   ]
  },
  {
   "cell_type": "code",
   "execution_count": 9,
   "id": "5daecc54",
   "metadata": {},
   "outputs": [],
   "source": [
    "def groupAnagrams(strs: List[str]) -> List[List[str]]:\n",
    "    sol = list()\n",
    "    group = dict()\n",
    "    for string in strs:\n",
    "        sorted_string = ''.join(sorted(string))\n",
    "        if sorted_string not in group:\n",
    "            group[sorted_string] = list()\n",
    "        group[sorted_string].append(string)\n",
    "\n",
    "    for value in group.values():\n",
    "        sol.append(value)\n",
    "    return sol"
   ]
  },
  {
   "cell_type": "code",
   "execution_count": 10,
   "id": "d4f7510b",
   "metadata": {},
   "outputs": [],
   "source": [
    "def topKFrequent(nums: List[int], k: int) -> List[int]:\n",
    "    counter = Counter(nums)\n",
    "    heap = []\n",
    "    \n",
    "    for num, freq in counter.items():\n",
    "        heapq.heappush(heap, (-freq, num))\n",
    "\n",
    "    result = []\n",
    "    for _ in range(k):\n",
    "        result.append(heapq.heappop(heap)[1])\n",
    "    return result"
   ]
  },
  {
   "cell_type": "code",
   "execution_count": 11,
   "id": "1c3f39da",
   "metadata": {},
   "outputs": [],
   "source": [
    "def productExceptSelf(nums: List[int]) -> List[int]:\n",
    "    first = []\n",
    "    mul = 1\n",
    "    for i in reversed(range(1, len(nums))):\n",
    "        ele = mul * nums[i]\n",
    "        first.append(ele)\n",
    "        mul = ele\n",
    "    first.reverse()\n",
    "    first.append(1)\n",
    "    mul = 1\n",
    "    last = [mul]\n",
    "    for i in range(len(nums) - 1):\n",
    "        ele = mul * nums[i]\n",
    "        last.append(ele)\n",
    "        mul = ele\n",
    "    return [a * b for a, b in zip(first, last)]"
   ]
  },
  {
   "cell_type": "code",
   "execution_count": 12,
   "id": "acbb1b61",
   "metadata": {
    "scrolled": true
   },
   "outputs": [],
   "source": [
    "def isValidSudoku(board: List[List[str]]) -> bool:\n",
    "    res = []\n",
    "    for i in range(9):\n",
    "        for j in range(9):\n",
    "            element = board[i][j]\n",
    "            if element != '.':\n",
    "                res += [(i, element), (element, j), (i // 3, j // 3, element)]\n",
    "    print(res)"
   ]
  },
  {
   "cell_type": "code",
   "execution_count": 13,
   "id": "531dd257",
   "metadata": {},
   "outputs": [],
   "source": [
    "def longestConsecutive(nums: List[int]) -> int:\n",
    "    longest = 0\n",
    "    num_set = set(nums)\n",
    "    print(num_set)\n",
    "    for n in num_set:\n",
    "        if n - 1 not in num_set:\n",
    "            length = 1\n",
    "            while n+length in num_set:\n",
    "                length += 1\n",
    "            longest = max(longest, length)\n",
    "    print(length)"
   ]
  },
  {
   "cell_type": "code",
   "execution_count": 14,
   "id": "20ccbfaf",
   "metadata": {},
   "outputs": [],
   "source": [
    "nums = [0,3,7,2,5,8,4,6,0,1]"
   ]
  },
  {
   "cell_type": "code",
   "execution_count": 15,
   "id": "04136339",
   "metadata": {},
   "outputs": [
    {
     "name": "stdout",
     "output_type": "stream",
     "text": [
      "{0, 1, 2, 3, 4, 5, 6, 7, 8}\n",
      "9\n"
     ]
    }
   ],
   "source": [
    "longestConsecutive(nums)"
   ]
  },
  {
   "cell_type": "code",
   "execution_count": 29,
   "id": "f2f00159",
   "metadata": {},
   "outputs": [],
   "source": [
    "def isPalindrome(s: str) -> bool:\n",
    "    start = 0\n",
    "    end = len(s) - 1\n",
    "\n",
    "    while start <= end:\n",
    "        if not s[start].isalnum():\n",
    "            start += 1\n",
    "            continue\n",
    "        if not s[end].isalnum():\n",
    "            end -= 1\n",
    "            continue\n",
    "        if s[start].isalnum() and s[end].isalnum():\n",
    "            if s[start].lower() != s[end].lower():\n",
    "                return False\n",
    "        start += 1\n",
    "        end -= 1\n",
    "    \n",
    "    return True"
   ]
  },
  {
   "cell_type": "code",
   "execution_count": 53,
   "id": "122fe18a",
   "metadata": {},
   "outputs": [],
   "source": [
    "def twoSum(numbers: List[int], target: int) -> List[int]:\n",
    "    i = 0\n",
    "    j = len(numbers) - 1\n",
    "    \n",
    "    while i < j:\n",
    "        s = numbers[i] + numbers[j]\n",
    "        \n",
    "        if s == target:\n",
    "            return [i + 1, j + 1]\n",
    "        \n",
    "        elif s < target:\n",
    "            i += 1\n",
    "        \n",
    "        else:\n",
    "            j -= 1"
   ]
  },
  {
   "cell_type": "code",
   "execution_count": 93,
   "id": "ed40054b",
   "metadata": {},
   "outputs": [],
   "source": [
    "def threeSum(nums: List[int]) -> List[List[int]]:\n",
    "    ans = []\n",
    "    nums.sort()\n",
    "    print(nums)\n",
    "    for i in range(len(nums) - 2):\n",
    "        left, right = i + 1, len(nums) - 1\n",
    "        if i > 0 and nums[i] == nums[i - 1]:\n",
    "            continue\n",
    "        while left < right:\n",
    "            s = nums[i] + nums[left] + nums[right]\n",
    "            if s < 0:\n",
    "                left += 1\n",
    "            elif s > 0:\n",
    "                right -= 1\n",
    "            else:\n",
    "                print(i, left, right)\n",
    "                tri = [nums[i], nums[left], nums[right]]\n",
    "                ans.append(tri)\n",
    "                while left < right and nums[left] == tri[1]:\n",
    "                    left += 1\n",
    "                while left < right and nums[right] == tri[2]:\n",
    "                    right -= 1\n",
    "    print(ans)"
   ]
  },
  {
   "cell_type": "code",
   "execution_count": 103,
   "id": "c17ca744",
   "metadata": {},
   "outputs": [],
   "source": [
    "def maxArea(height: List[int]) -> int:\n",
    "    ans = 0\n",
    "    start, end = 0, len(height) - 1\n",
    "\n",
    "    while start < end:\n",
    "        sol = min(height[start], height[end]) * (end - start)\n",
    "        ans = max(sol, ans)\n",
    "        if height[start] < height[end]:\n",
    "            start += 1\n",
    "        else:\n",
    "            end -= 1\n",
    "    \n",
    "    return ans"
   ]
  },
  {
   "cell_type": "code",
   "execution_count": 104,
   "id": "fc5981fb",
   "metadata": {},
   "outputs": [],
   "source": [
    "height = [1,8,6,2,5,4,8,3,7]"
   ]
  },
  {
   "cell_type": "code",
   "execution_count": 105,
   "id": "8d6dbf4a",
   "metadata": {},
   "outputs": [
    {
     "name": "stdout",
     "output_type": "stream",
     "text": [
      "49\n"
     ]
    }
   ],
   "source": [
    "maxArea(height)"
   ]
  },
  {
   "cell_type": "code",
   "execution_count": 123,
   "id": "bcea3504",
   "metadata": {},
   "outputs": [],
   "source": [
    "def maxProfit(prices: List[int]) -> int:\n",
    "    profit = 0\n",
    "    for i in range(len(prices) - 1):\n",
    "        sell = i + 1\n",
    "        while sell < len(prices):\n",
    "            if prices[i] > prices[sell]:\n",
    "                sell += 1\n",
    "                continue\n",
    "            profit = max(profit, prices[sell] - prices[i])\n",
    "            sell += 1\n",
    "    return profit"
   ]
  },
  {
   "cell_type": "code",
   "execution_count": 124,
   "id": "75420c9a",
   "metadata": {},
   "outputs": [],
   "source": [
    "prices = [7,6,4,3,1]"
   ]
  },
  {
   "cell_type": "code",
   "execution_count": 125,
   "id": "869b8d14",
   "metadata": {},
   "outputs": [
    {
     "data": {
      "text/plain": [
       "0"
      ]
     },
     "execution_count": 125,
     "metadata": {},
     "output_type": "execute_result"
    }
   ],
   "source": [
    "maxProfit(prices)"
   ]
  },
  {
   "cell_type": "code",
   "execution_count": 37,
   "id": "f12661b7",
   "metadata": {},
   "outputs": [],
   "source": [
    "def arrayPairSum(nums: List[int]):\n",
    "    ans = 0\n",
    "    \n",
    "    nums.sort()\n",
    "    \n",
    "    print(nums[::2])"
   ]
  },
  {
   "cell_type": "code",
   "execution_count": 38,
   "id": "f1e711a3",
   "metadata": {},
   "outputs": [],
   "source": [
    "nums = [1,4,3,2]"
   ]
  },
  {
   "cell_type": "code",
   "execution_count": 39,
   "id": "3c6d0b99",
   "metadata": {},
   "outputs": [
    {
     "name": "stdout",
     "output_type": "stream",
     "text": [
      "[1, 3]\n"
     ]
    }
   ],
   "source": [
    "arrayPairSum(nums)"
   ]
  },
  {
   "cell_type": "code",
   "execution_count": 40,
   "id": "84b29b06",
   "metadata": {},
   "outputs": [],
   "source": [
    "def isValid(s: str) -> bool:\n",
    "    parentheses = {\")\" : \"(\", \"]\" : \"[\", \"}\" : \"{\"}\n",
    "    stack = []\n",
    "    \n",
    "    for char in s:\n",
    "        if char not in parentheses:\n",
    "            stack.append(char)\n",
    "        elif not stack or parentheses[char] != stack.pop():\n",
    "            return False\n",
    "    return len(stack) == 0"
   ]
  },
  {
   "cell_type": "code",
   "execution_count": 34,
   "id": "128e040c",
   "metadata": {},
   "outputs": [],
   "source": [
    "def removeDuplicateLetters(s: str) -> str:\n",
    "    "
   ]
  },
  {
   "cell_type": "code",
   "execution_count": 35,
   "id": "a5a98a34",
   "metadata": {},
   "outputs": [],
   "source": [
    "s = 'cbacdcbc'"
   ]
  },
  {
   "cell_type": "code",
   "execution_count": 36,
   "id": "31b424d5",
   "metadata": {},
   "outputs": [
    {
     "name": "stdout",
     "output_type": "stream",
     "text": [
      "Counter({'c': 4, 'b': 2, 'a': 1, 'd': 1})\n",
      "['a', 'c', 'd', 'b']\n"
     ]
    }
   ],
   "source": [
    "removeDuplicateLetters(s)"
   ]
  },
  {
   "cell_type": "code",
   "execution_count": null,
   "id": "c77edc10",
   "metadata": {},
   "outputs": [],
   "source": []
  }
 ],
 "metadata": {
  "kernelspec": {
   "display_name": "Python 3 (ipykernel)",
   "language": "python",
   "name": "python3"
  },
  "language_info": {
   "codemirror_mode": {
    "name": "ipython",
    "version": 3
   },
   "file_extension": ".py",
   "mimetype": "text/x-python",
   "name": "python",
   "nbconvert_exporter": "python",
   "pygments_lexer": "ipython3",
   "version": "3.11.0"
  }
 },
 "nbformat": 4,
 "nbformat_minor": 5
}
