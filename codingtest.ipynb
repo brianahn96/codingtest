{
 "cells": [
  {
   "cell_type": "code",
   "execution_count": 28,
   "id": "093f54c0",
   "metadata": {},
   "outputs": [],
   "source": [
    "from typing import List\n",
    "from collections import defaultdict, Counter, deque\n",
    "import heapq\n",
    "import math"
   ]
  },
  {
   "cell_type": "code",
   "execution_count": 41,
   "id": "47dd3f23",
   "metadata": {},
   "outputs": [],
   "source": [
    "def subsets(nums: List[int]) -> List[List[int]]:\n",
    "    results = []\n",
    "    \n",
    "    def dfs(index, path):\n",
    "        print(index, path)\n",
    "        results.append(path)\n",
    "        \n",
    "        for i in range(index, len(nums)):\n",
    "            print(path + [nums[i]])\n",
    "            dfs(i + 1, path + [nums[i]])\n",
    "    \n",
    "    dfs(0, [])\n",
    "    \n",
    "    return results"
   ]
  },
  {
   "cell_type": "code",
   "execution_count": 42,
   "id": "9e66b520",
   "metadata": {},
   "outputs": [],
   "source": [
    "nums = [1,2,3]"
   ]
  },
  {
   "cell_type": "code",
   "execution_count": 43,
   "id": "565bed09",
   "metadata": {},
   "outputs": [
    {
     "name": "stdout",
     "output_type": "stream",
     "text": [
      "0 []\n",
      "[1]\n",
      "1 [1]\n",
      "[1, 2]\n",
      "2 [1, 2]\n",
      "[1, 2, 3]\n",
      "3 [1, 2, 3]\n",
      "[1, 3]\n",
      "3 [1, 3]\n",
      "[2]\n",
      "2 [2]\n",
      "[2, 3]\n",
      "3 [2, 3]\n",
      "[3]\n",
      "3 [3]\n"
     ]
    },
    {
     "data": {
      "text/plain": [
       "[[], [1], [1, 2], [1, 2, 3], [1, 3], [2], [2, 3], [3]]"
      ]
     },
     "execution_count": 43,
     "metadata": {},
     "output_type": "execute_result"
    }
   ],
   "source": [
    "subsets(nums)"
   ]
  },
  {
   "cell_type": "code",
   "execution_count": 18,
   "id": "1a960ce6",
   "metadata": {
    "scrolled": true
   },
   "outputs": [
    {
     "data": {
      "text/plain": [
       "[[2, 2, 3], [7]]"
      ]
     },
     "execution_count": 18,
     "metadata": {},
     "output_type": "execute_result"
    }
   ],
   "source": [
    "combinationSum(candidates, target)"
   ]
  },
  {
   "cell_type": "code",
   "execution_count": null,
   "id": "eb681731",
   "metadata": {},
   "outputs": [],
   "source": []
  }
 ],
 "metadata": {
  "kernelspec": {
   "display_name": "Python 3 (ipykernel)",
   "language": "python",
   "name": "python3"
  },
  "language_info": {
   "codemirror_mode": {
    "name": "ipython",
    "version": 3
   },
   "file_extension": ".py",
   "mimetype": "text/x-python",
   "name": "python",
   "nbconvert_exporter": "python",
   "pygments_lexer": "ipython3",
   "version": "3.11.0"
  }
 },
 "nbformat": 4,
 "nbformat_minor": 5
}
