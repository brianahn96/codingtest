{
 "cells": [
  {
   "cell_type": "code",
   "execution_count": 417,
   "id": "093f54c0",
   "metadata": {},
   "outputs": [],
   "source": [
    "from typing import List, Optional\n",
    "from collections import defaultdict, Counter, deque\n",
    "import heapq\n",
    "import math\n",
    "from itertools import permutations, combinations"
   ]
  },
  {
   "cell_type": "code",
   "execution_count": 491,
   "id": "176124c5",
   "metadata": {
    "scrolled": true
   },
   "outputs": [
    {
     "name": "stdout",
     "output_type": "stream",
     "text": [
      "6\n",
      "0 1 2 3 4 5\n",
      "1 0 2 3 4 5\n",
      "1 2 0 3 4 5\n",
      "1 2 3 0 4 5\n",
      "1 2 3 4 0 5\n",
      "1 2 3 4 5 0\n"
     ]
    }
   ],
   "source": [
    "N = int(input())\n",
    "grids = [0 for _ in range(N)]\n",
    "for i in range(N):\n",
    "    lists = list(map(int, input().split(\" \")))\n",
    "    grids[i] = lists"
   ]
  },
  {
   "cell_type": "code",
   "execution_count": 502,
   "id": "8bce663c",
   "metadata": {},
   "outputs": [],
   "source": [
    "minimum = int(1e9)\n",
    "visited = [False for _ in range(N)]"
   ]
  },
  {
   "cell_type": "code",
   "execution_count": 503,
   "id": "b36d5cfe",
   "metadata": {},
   "outputs": [
    {
     "data": {
      "text/plain": [
       "[False, False, False, False, False, False]"
      ]
     },
     "execution_count": 503,
     "metadata": {},
     "output_type": "execute_result"
    }
   ],
   "source": [
    "visited"
   ]
  },
  {
   "cell_type": "code",
   "execution_count": 504,
   "id": "196562f3",
   "metadata": {},
   "outputs": [],
   "source": [
    "def backtracking(depth, index):\n",
    "    global minimum\n",
    "    if depth == N // 2:\n",
    "        power1, power2 = 0, 0\n",
    "        for i in range(N):\n",
    "            for j in range(N):\n",
    "                if i == j:\n",
    "                    continue\n",
    "                if visited[i] and visited[j]: #5\n",
    "                    power1 += grids[i][j]\n",
    "                elif not visited[i] and not visited[j]: #6\n",
    "                    power2 += grids[i][j]\n",
    "        minimum = min(minimum, abs(power1-power2)) #7\n",
    "        return\n",
    "    \n",
    "    for i in range(index, N):\n",
    "        visited[i] = True\n",
    "        backtracking(depth + 1, i + 1)\n",
    "        visited[i] = False"
   ]
  },
  {
   "cell_type": "code",
   "execution_count": 505,
   "id": "a60a55f6",
   "metadata": {},
   "outputs": [],
   "source": [
    "backtracking(0, 0)"
   ]
  },
  {
   "cell_type": "code",
   "execution_count": 506,
   "id": "947a5dce",
   "metadata": {},
   "outputs": [
    {
     "data": {
      "text/plain": [
       "2"
      ]
     },
     "execution_count": 506,
     "metadata": {},
     "output_type": "execute_result"
    }
   ],
   "source": [
    "minimum"
   ]
  },
  {
   "cell_type": "code",
   "execution_count": null,
   "id": "e55a60df",
   "metadata": {},
   "outputs": [],
   "source": []
  }
 ],
 "metadata": {
  "kernelspec": {
   "display_name": "Python 3 (ipykernel)",
   "language": "python",
   "name": "python3"
  },
  "language_info": {
   "codemirror_mode": {
    "name": "ipython",
    "version": 3
   },
   "file_extension": ".py",
   "mimetype": "text/x-python",
   "name": "python",
   "nbconvert_exporter": "python",
   "pygments_lexer": "ipython3",
   "version": "3.11.0"
  }
 },
 "nbformat": 4,
 "nbformat_minor": 5
}
