{
 "cells": [
  {
   "cell_type": "code",
   "execution_count": 417,
   "id": "093f54c0",
   "metadata": {},
   "outputs": [],
   "source": [
    "from typing import List, Optional\n",
    "from collections import defaultdict, Counter, deque\n",
    "import heapq\n",
    "import math\n",
    "from itertools import permutations, combinations"
   ]
  },
  {
   "cell_type": "code",
   "execution_count": 413,
   "id": "daf68950",
   "metadata": {},
   "outputs": [
    {
     "name": "stdout",
     "output_type": "stream",
     "text": [
      "4\n",
      "0 1 2 3\n",
      "4 0 5 6\n",
      "7 1 0 2\n",
      "3 4 5 0\n"
     ]
    }
   ],
   "source": [
    "N = int(input())\n",
    "grids = [0 for _ in range(N)]\n",
    "for i in range(N):\n",
    "    lists = list(map(int, input().split(\" \")))\n",
    "    grids[i] = lists"
   ]
  },
  {
   "cell_type": "code",
   "execution_count": 441,
   "id": "4bec84bf",
   "metadata": {},
   "outputs": [],
   "source": [
    "N = 6"
   ]
  },
  {
   "cell_type": "code",
   "execution_count": 454,
   "id": "d6012682",
   "metadata": {},
   "outputs": [],
   "source": [
    "permute = list(permutations(range(1, N + 1), N // 2))"
   ]
  },
  {
   "cell_type": "code",
   "execution_count": 455,
   "id": "da1dd723",
   "metadata": {},
   "outputs": [],
   "source": [
    "comb = list(combinations(range(1, N + 1), N // 2))"
   ]
  },
  {
   "cell_type": "code",
   "execution_count": 458,
   "id": "16ae4d15",
   "metadata": {},
   "outputs": [
    {
     "data": {
      "text/plain": [
       "[(1, 2, 3),\n",
       " (1, 2, 4),\n",
       " (1, 2, 5),\n",
       " (1, 2, 6),\n",
       " (1, 3, 4),\n",
       " (1, 3, 5),\n",
       " (1, 3, 6),\n",
       " (1, 4, 5),\n",
       " (1, 4, 6),\n",
       " (1, 5, 6),\n",
       " (2, 3, 4),\n",
       " (2, 3, 5),\n",
       " (2, 3, 6),\n",
       " (2, 4, 5),\n",
       " (2, 4, 6),\n",
       " (2, 5, 6),\n",
       " (3, 4, 5),\n",
       " (3, 4, 6),\n",
       " (3, 5, 6),\n",
       " (4, 5, 6)]"
      ]
     },
     "execution_count": 458,
     "metadata": {},
     "output_type": "execute_result"
    }
   ],
   "source": [
    "comb"
   ]
  },
  {
   "cell_type": "code",
   "execution_count": 460,
   "id": "d71fdf77",
   "metadata": {},
   "outputs": [],
   "source": [
    "lists = list(range(1, N + 1))"
   ]
  },
  {
   "cell_type": "code",
   "execution_count": 464,
   "id": "ff01395f",
   "metadata": {},
   "outputs": [
    {
     "ename": "TypeError",
     "evalue": "unsupported operand type(s) for -: 'list' and 'list'",
     "output_type": "error",
     "traceback": [
      "\u001b[0;31m---------------------------------------------------------------------------\u001b[0m",
      "\u001b[0;31mTypeError\u001b[0m                                 Traceback (most recent call last)",
      "Cell \u001b[0;32mIn[464], line 1\u001b[0m\n\u001b[0;32m----> 1\u001b[0m lists \u001b[38;5;241m-\u001b[39m [\u001b[38;5;241m1\u001b[39m]\n",
      "\u001b[0;31mTypeError\u001b[0m: unsupported operand type(s) for -: 'list' and 'list'"
     ]
    }
   ],
   "source": [
    "lists - [1]"
   ]
  },
  {
   "cell_type": "code",
   "execution_count": 462,
   "id": "98d44ffc",
   "metadata": {},
   "outputs": [
    {
     "name": "stdout",
     "output_type": "stream",
     "text": [
      "(1, 2, 3)\n",
      "[1, 2, 3]\n",
      "(1, 2, 4)\n",
      "[1, 2, 4]\n",
      "(1, 2, 5)\n",
      "[1, 2, 5]\n",
      "(1, 2, 6)\n",
      "[1, 2, 6]\n",
      "(1, 3, 4)\n",
      "[1, 3, 4]\n",
      "(1, 3, 5)\n",
      "[1, 3, 5]\n",
      "(1, 3, 6)\n",
      "[1, 3, 6]\n",
      "(1, 4, 5)\n",
      "[1, 4, 5]\n",
      "(1, 4, 6)\n",
      "[1, 4, 6]\n",
      "(1, 5, 6)\n",
      "[1, 5, 6]\n",
      "(2, 3, 4)\n",
      "[2, 3, 4]\n",
      "(2, 3, 5)\n",
      "[2, 3, 5]\n",
      "(2, 3, 6)\n",
      "[2, 3, 6]\n",
      "(2, 4, 5)\n",
      "[2, 4, 5]\n",
      "(2, 4, 6)\n",
      "[2, 4, 6]\n",
      "(2, 5, 6)\n",
      "[2, 5, 6]\n",
      "(3, 4, 5)\n",
      "[3, 4, 5]\n",
      "(3, 4, 6)\n",
      "[3, 4, 6]\n",
      "(3, 5, 6)\n",
      "[3, 5, 6]\n",
      "(4, 5, 6)\n",
      "[4, 5, 6]\n"
     ]
    }
   ],
   "source": [
    "for a in comb:\n",
    "    print(a)\n",
    "    print(list(a))\n",
    "#     print(lists - list(a))"
   ]
  },
  {
   "cell_type": "code",
   "execution_count": null,
   "id": "6f39d47d",
   "metadata": {},
   "outputs": [],
   "source": []
  }
 ],
 "metadata": {
  "kernelspec": {
   "display_name": "Python 3 (ipykernel)",
   "language": "python",
   "name": "python3"
  },
  "language_info": {
   "codemirror_mode": {
    "name": "ipython",
    "version": 3
   },
   "file_extension": ".py",
   "mimetype": "text/x-python",
   "name": "python",
   "nbconvert_exporter": "python",
   "pygments_lexer": "ipython3",
   "version": "3.11.0"
  }
 },
 "nbformat": 4,
 "nbformat_minor": 5
}
