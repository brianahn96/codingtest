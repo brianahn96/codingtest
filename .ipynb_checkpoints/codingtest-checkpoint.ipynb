{
 "cells": [
  {
   "cell_type": "code",
   "execution_count": 4,
   "id": "093f54c0",
   "metadata": {},
   "outputs": [],
   "source": [
    "from typing import List, Optional\n",
    "from collections import defaultdict, Counter, deque\n",
    "import heapq\n",
    "import math"
   ]
  },
  {
   "cell_type": "code",
   "execution_count": 159,
   "id": "2500a3ab",
   "metadata": {},
   "outputs": [],
   "source": [
    "def searchMatrix(matrix: List[List[int]], target: int) -> bool:\n",
    "    firstrows = list(map(lambda x: x[0], matrix))\n",
    "    \n",
    "    left, right = 0, len(firstrows) - 1\n",
    "\n",
    "    while firstrows[left] <= target and target < firstrows[right]:\n",
    "        mid = (left + right) // 2\n",
    "\n",
    "        if nums[mid] < find:\n",
    "            left = mid + 1\n",
    "        elif nums[mid] > find:\n",
    "            right = mid - 1\n",
    "        if right or nums[mid] == find:\n",
    "            return right\n",
    "    \n",
    "    m = search(firstrows, target)\n",
    "    \n",
    "    print(m)\n",
    "    "
   ]
  },
  {
   "cell_type": "code",
   "execution_count": 176,
   "id": "a723c52b",
   "metadata": {},
   "outputs": [],
   "source": [
    "matrix = [[1,3,5,7],[10,11,16,20],[23,30,34,60]]\n",
    "target = 1"
   ]
  },
  {
   "cell_type": "code",
   "execution_count": 177,
   "id": "973d121a",
   "metadata": {},
   "outputs": [
    {
     "name": "stdout",
     "output_type": "stream",
     "text": [
      "0\n"
     ]
    }
   ],
   "source": [
    "searchMatrix(matrix, target)"
   ]
  },
  {
   "cell_type": "code",
   "execution_count": null,
   "id": "3ddc54df",
   "metadata": {},
   "outputs": [],
   "source": []
  },
  {
   "cell_type": "code",
   "execution_count": null,
   "id": "c6ad60e0",
   "metadata": {},
   "outputs": [],
   "source": []
  }
 ],
 "metadata": {
  "kernelspec": {
   "display_name": "Python 3 (ipykernel)",
   "language": "python",
   "name": "python3"
  },
  "language_info": {
   "codemirror_mode": {
    "name": "ipython",
    "version": 3
   },
   "file_extension": ".py",
   "mimetype": "text/x-python",
   "name": "python",
   "nbconvert_exporter": "python",
   "pygments_lexer": "ipython3",
   "version": "3.11.0"
  }
 },
 "nbformat": 4,
 "nbformat_minor": 5
}
