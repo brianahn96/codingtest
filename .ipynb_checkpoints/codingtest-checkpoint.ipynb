{
 "cells": [
  {
   "cell_type": "code",
   "execution_count": 157,
   "id": "093f54c0",
   "metadata": {},
   "outputs": [],
   "source": [
    "from typing import List\n",
    "from collections import defaultdict, Counter, deque\n",
    "import heapq\n",
    "import math"
   ]
  },
  {
   "cell_type": "code",
   "execution_count": 380,
   "id": "4dd7efc3",
   "metadata": {},
   "outputs": [],
   "source": [
    "def solution(maps):\n",
    "    vertical, horizontal = len(maps), len(maps[0])\n",
    "    maps = [list(map(str, maps[i])) for i in range(len(maps))]\n",
    "    dx, dy = [-1, 1, 0, 0], [0, 0, 1, -1]\n",
    "    result = []\n",
    "    \n",
    "    def bfs(i, j):\n",
    "        queue = deque()\n",
    "        queue.append((i, j))\n",
    "        visited = []\n",
    "        count = 0\n",
    "        \n",
    "        while queue:\n",
    "            x, y = queue.popleft()\n",
    "            for i in range(4):\n",
    "                new_x, new_y = x + dx[i], y + dy[i]\n",
    "                if 0 <= new_x < vertical and 0 <= new_y < horizontal and (new_x, new_y) not in visited and maps[new_x][new_y] != 'X':\n",
    "                    queue.append((new_x, new_y))\n",
    "                    visited.append((new_x, new_y))\n",
    "\n",
    "            count += int(maps[x][y])\n",
    "            maps[x][y] = 'X'\n",
    "        return count\n",
    "    \n",
    "    for i in range(vertical):\n",
    "        for j in range(horizontal):\n",
    "            if maps[i][j] != 'X':\n",
    "                result.append(bfs(i, j))\n",
    "    \n",
    "    return sorted(result) if result else [-1]"
   ]
  },
  {
   "cell_type": "code",
   "execution_count": 381,
   "id": "eee4a650",
   "metadata": {},
   "outputs": [],
   "source": [
    "maps = [\"X591X\",\"X1X5X\",\"X231X\", \"1XXX1\"]"
   ]
  },
  {
   "cell_type": "code",
   "execution_count": 383,
   "id": "e531302e",
   "metadata": {},
   "outputs": [],
   "source": [
    "maps = [\"XXX\",\"XXX\",\"XXX\"]"
   ]
  },
  {
   "cell_type": "code",
   "execution_count": 384,
   "id": "0cab371c",
   "metadata": {},
   "outputs": [
    {
     "data": {
      "text/plain": [
       "[-1]"
      ]
     },
     "execution_count": 384,
     "metadata": {},
     "output_type": "execute_result"
    }
   ],
   "source": [
    "solution(maps)"
   ]
  },
  {
   "cell_type": "code",
   "execution_count": null,
   "id": "5b7032fa",
   "metadata": {},
   "outputs": [],
   "source": []
  }
 ],
 "metadata": {
  "kernelspec": {
   "display_name": "Python 3 (ipykernel)",
   "language": "python",
   "name": "python3"
  },
  "language_info": {
   "codemirror_mode": {
    "name": "ipython",
    "version": 3
   },
   "file_extension": ".py",
   "mimetype": "text/x-python",
   "name": "python",
   "nbconvert_exporter": "python",
   "pygments_lexer": "ipython3",
   "version": "3.11.0"
  }
 },
 "nbformat": 4,
 "nbformat_minor": 5
}
