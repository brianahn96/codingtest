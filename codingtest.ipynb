{
 "cells": [
  {
   "cell_type": "code",
   "execution_count": 31,
   "id": "093f54c0",
   "metadata": {},
   "outputs": [],
   "source": [
    "from typing import List\n",
    "from collections import defaultdict, Counter, deque\n",
    "import heapq\n",
    "import math"
   ]
  },
  {
   "cell_type": "code",
   "execution_count": 138,
   "id": "9064f5d8",
   "metadata": {},
   "outputs": [],
   "source": [
    "def orangesRotting(grid: List[List[int]]) -> int:\n",
    "    queue = []\n",
    "    ans = -1\n",
    "    M, N = len(grid), len(grid[0])\n",
    "    for i in range(M):\n",
    "        for j in range(N):\n",
    "            if grid[i][j] == 2:\n",
    "                queue.append((i, j))\n",
    "\n",
    "    dx, dy = [-1, 1, 0, 0], [0, 0, -1, 1]\n",
    "\n",
    "    while queue:\n",
    "        rotten = queue.copy()\n",
    "        queue.clear()\n",
    "\n",
    "        for x, y in rotten:\n",
    "            for i in range(4):\n",
    "                new_x, new_y = x + dx[i], y + dy[i]\n",
    "                if 0 <= new_x < M and 0 <= new_y < N and grid[new_x][new_y] == 1:\n",
    "                    grid[new_x][new_y] = 2\n",
    "                    queue.append((new_x, new_y))\n",
    "        ans += 1\n",
    "    for i in grid:\n",
    "        for j in i:\n",
    "            if j == 1:\n",
    "                return - 1\n",
    "    return ans if ans != -1 else 0"
   ]
  },
  {
   "cell_type": "code",
   "execution_count": 139,
   "id": "3bac7545",
   "metadata": {},
   "outputs": [],
   "source": [
    "grid = [[2,1,1],[1,1,0],[0,1,1]]"
   ]
  },
  {
   "cell_type": "code",
   "execution_count": 140,
   "id": "46e01b4a",
   "metadata": {},
   "outputs": [
    {
     "data": {
      "text/plain": [
       "4"
      ]
     },
     "execution_count": 140,
     "metadata": {},
     "output_type": "execute_result"
    }
   ],
   "source": [
    "orangesRotting(grid)"
   ]
  },
  {
   "cell_type": "code",
   "execution_count": null,
   "id": "47dd3f23",
   "metadata": {},
   "outputs": [],
   "source": []
  }
 ],
 "metadata": {
  "kernelspec": {
   "display_name": "Python 3 (ipykernel)",
   "language": "python",
   "name": "python3"
  },
  "language_info": {
   "codemirror_mode": {
    "name": "ipython",
    "version": 3
   },
   "file_extension": ".py",
   "mimetype": "text/x-python",
   "name": "python",
   "nbconvert_exporter": "python",
   "pygments_lexer": "ipython3",
   "version": "3.11.0"
  }
 },
 "nbformat": 4,
 "nbformat_minor": 5
}
