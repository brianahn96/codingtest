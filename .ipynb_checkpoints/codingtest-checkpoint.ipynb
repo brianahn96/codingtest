{
 "cells": [
  {
   "cell_type": "code",
   "execution_count": 157,
   "id": "093f54c0",
   "metadata": {},
   "outputs": [],
   "source": [
    "from typing import List\n",
    "from collections import defaultdict, Counter, deque\n",
    "import heapq\n",
    "import math"
   ]
  },
  {
   "cell_type": "code",
   "execution_count": 244,
   "id": "3100be82",
   "metadata": {},
   "outputs": [],
   "source": [
    "def solution(maps):\n",
    "    vertical, horizontal = len(maps), len(maps[0])\n",
    "    dx, dy = [-1, 1, 0, 0], [0, 0, 1, -1]\n",
    "    result = []\n",
    "    \n",
    "    def bfs(i, j):\n",
    "        queue = deque()\n",
    "        queue.append((i, j))\n",
    "        count = 0\n",
    "        \n",
    "        while queue:\n",
    "            x, y = queue.popleft()\n",
    "            \n",
    "            for i in range(4):\n",
    "                new_x, new_y = x + dx[i], y + dy[i]\n",
    "                \n",
    "                if 0 <= new_x < horizontal and 0 <= new_y < vertical and maps[x][y] != 'X':\n",
    "                    count += maps[x][y]\n",
    "                    maps[x][y] = 'X'\n",
    "                    queue.append((new_x, new_y))\n",
    "    \n",
    "    for i in range(vertical):\n",
    "        for j in range(horizontal):\n",
    "            if maps[i][j] != 'X':\n",
    "                result.append(bfs(i, j))\n",
    "    \n",
    "    return result"
   ]
  },
  {
   "cell_type": "code",
   "execution_count": 245,
   "id": "658613b3",
   "metadata": {},
   "outputs": [],
   "source": [
    "maps = [\"X591X\",\"X1X5X\",\"X231X\", \"1XXX1\"]"
   ]
  },
  {
   "cell_type": "code",
   "execution_count": null,
   "id": "697b10d1",
   "metadata": {},
   "outputs": [],
   "source": []
  }
 ],
 "metadata": {
  "kernelspec": {
   "display_name": "Python 3 (ipykernel)",
   "language": "python",
   "name": "python3"
  },
  "language_info": {
   "codemirror_mode": {
    "name": "ipython",
    "version": 3
   },
   "file_extension": ".py",
   "mimetype": "text/x-python",
   "name": "python",
   "nbconvert_exporter": "python",
   "pygments_lexer": "ipython3",
   "version": "3.11.0"
  }
 },
 "nbformat": 4,
 "nbformat_minor": 5
}
