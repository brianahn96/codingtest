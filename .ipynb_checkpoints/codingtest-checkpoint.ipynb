{
 "cells": [
  {
   "cell_type": "code",
   "execution_count": 4,
   "id": "093f54c0",
   "metadata": {},
   "outputs": [],
   "source": [
    "from typing import List, Optional\n",
    "from collections import defaultdict, Counter, deque\n",
    "import heapq\n",
    "import math"
   ]
  },
  {
   "cell_type": "code",
   "execution_count": 20,
   "id": "7276218a",
   "metadata": {},
   "outputs": [
    {
     "name": "stdout",
     "output_type": "stream",
     "text": [
      "0\n",
      "Counter({'A': 1})\n",
      "Counter({'A': 1, 'B': 1})\n",
      "Counter({'A': 2, 'B': 1})\n",
      "1\n",
      "Counter({'B': 1})\n",
      "Counter({'B': 1, 'A': 1})\n",
      "2\n",
      "Counter({'A': 1})\n",
      "3\n"
     ]
    }
   ],
   "source": [
    "def solution(name):\n",
    "    \n",
    "    return answer"
   ]
  },
  {
   "cell_type": "code",
   "execution_count": null,
   "id": "2a781f62",
   "metadata": {},
   "outputs": [],
   "source": [
    "def characterReplacement(s: str, k: int):\n",
    "    answer = 0\n",
    "    "
   ]
  }
 ],
 "metadata": {
  "kernelspec": {
   "display_name": "Python 3 (ipykernel)",
   "language": "python",
   "name": "python3"
  },
  "language_info": {
   "codemirror_mode": {
    "name": "ipython",
    "version": 3
   },
   "file_extension": ".py",
   "mimetype": "text/x-python",
   "name": "python",
   "nbconvert_exporter": "python",
   "pygments_lexer": "ipython3",
   "version": "3.11.0"
  }
 },
 "nbformat": 4,
 "nbformat_minor": 5
}
