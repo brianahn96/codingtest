{
 "cells": [
  {
   "cell_type": "code",
   "execution_count": 2,
   "id": "093f54c0",
   "metadata": {},
   "outputs": [],
   "source": [
    "from typing import List, Optional\n",
    "from collections import defaultdict, Counter, deque\n",
    "import heapq\n",
    "import math"
   ]
  },
  {
   "cell_type": "code",
   "execution_count": 3,
   "id": "7276218a",
   "metadata": {},
   "outputs": [],
   "source": [
    "def solution(name):\n",
    "    \n",
    "    return answer"
   ]
  },
  {
   "cell_type": "code",
   "execution_count": 18,
   "id": "2a781f62",
   "metadata": {},
   "outputs": [],
   "source": [
    "def characterReplacement(s: str, k: int):\n",
    "    answer = 0\n",
    "    left = right = 0\n",
    "    \n",
    "    while right < len(s):\n",
    "        counter = Counter(s[left:right + 1])\n",
    "        a = counter.most_common(1)\n",
    "        remain = right - left + 1 - a[0][1]\n",
    "        if remain > k:\n",
    "            left += 1\n",
    "        else:\n",
    "            answer = max(answer, right - left + 1)\n",
    "        right += 1\n",
    "    \n",
    "    return answer"
   ]
  },
  {
   "cell_type": "code",
   "execution_count": 21,
   "id": "599d85fe",
   "metadata": {},
   "outputs": [],
   "source": [
    "s = \"ABAB\"\n",
    "k = 2"
   ]
  },
  {
   "cell_type": "code",
   "execution_count": 22,
   "id": "d7b9f737",
   "metadata": {},
   "outputs": [
    {
     "name": "stdout",
     "output_type": "stream",
     "text": [
      "[('A', 1)]\n",
      "[('A', 1)]\n",
      "[('A', 2)]\n",
      "[('A', 2)]\n",
      "4\n"
     ]
    }
   ],
   "source": [
    "characterReplacement(s, k)"
   ]
  },
  {
   "cell_type": "code",
   "execution_count": null,
   "id": "290fb3eb",
   "metadata": {},
   "outputs": [],
   "source": []
  }
 ],
 "metadata": {
  "kernelspec": {
   "display_name": "Python 3 (ipykernel)",
   "language": "python",
   "name": "python3"
  },
  "language_info": {
   "codemirror_mode": {
    "name": "ipython",
    "version": 3
   },
   "file_extension": ".py",
   "mimetype": "text/x-python",
   "name": "python",
   "nbconvert_exporter": "python",
   "pygments_lexer": "ipython3",
   "version": "3.11.0"
  }
 },
 "nbformat": 4,
 "nbformat_minor": 5
}
